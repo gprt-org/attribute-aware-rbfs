{
 "cells": [
  {
   "cell_type": "code",
   "execution_count": 1,
   "metadata": {},
   "outputs": [],
   "source": [
    "import numpy as np\n",
    "import scipy\n",
    "import matplotlib.pyplot as plt\n",
    "import poisson_disc as pd\n",
    "from mpl_toolkits.mplot3d import Axes3D\n",
    "import ipywidgets as widgets\n",
    "import random\n",
    "\n",
    "from ipywidgets import IntProgress\n",
    "from IPython.display import display\n",
    "import time\n"
   ]
  },
  {
   "cell_type": "code",
   "execution_count": 2,
   "metadata": {},
   "outputs": [],
   "source": [
    "# Poisson disc sampling in arbitrary dimensions via Bridson algorithm\n",
    "# Implementation by Pavel Zun, pavel.zun@gmail.com\n",
    "# BSD licence - https://github.com/diregoblin/poisson_disc_sampling\n",
    "\n",
    "# -----------------------------------------------------------------------------\n",
    "# Based on 2D sampling by Nicolas P. Rougier - https://github.com/rougier/numpy-book\n",
    "# -----------------------------------------------------------------------------\n",
    "\n",
    "import numpy as np\n",
    "from scipy.special import gammainc\n",
    "\n",
    "# Uniform sampling in a hyperspere\n",
    "# Based on Matlab implementation by Roger Stafford\n",
    "# Can be optimized for Bridson algorithm by excluding all points within the r/2 sphere\n",
    "def hypersphere_volume_sample(center,radius,k=1):\n",
    "    ndim = center.size\n",
    "    x = np.random.normal(size=(k, ndim))\n",
    "    ssq = np.sum(x**2,axis=1)\n",
    "    fr = radius*gammainc(ndim/2,ssq/2)**(1/ndim)/np.sqrt(ssq)\n",
    "    frtiled = np.tile(fr.reshape(k,1),(1,ndim))\n",
    "    p = center + np.multiply(x,frtiled)\n",
    "    return p\n",
    "\n",
    "\n",
    "# Uniform sampling on the sphere's surface\n",
    "def hypersphere_surface_sample(center,radius,k=1):\n",
    "    ndim = center.size\n",
    "    vec = np.random.standard_normal(size=(k, ndim))\n",
    "    vec /= np.linalg.norm(vec, axis=1)[:,None]\n",
    "    p = center + np.multiply(vec, radius)\n",
    "    return p\n",
    "\n",
    "\n",
    "def squared_distance(p0, p1):\n",
    "    return np.sum(np.square(p0-p1))\n",
    "\n",
    "def Bridson_sampling(dims=np.array([1.0,1.0]), min_radius=0.05, max_radius=0.05, k=30, hypersphere_sample=hypersphere_volume_sample):\n",
    "    # References: Fast Poisson Disk Sampling in Arbitrary Dimensions\n",
    "    #             Robert Bridson, SIGGRAPH, 2007\n",
    "\n",
    "    ndim=dims.size\n",
    "\n",
    "    # size of the sphere from which the samples are drawn relative to the size of a disc (radius)\n",
    "    sample_factor = 2\n",
    "    if hypersphere_sample == hypersphere_volume_sample:\n",
    "        sample_factor = 2\n",
    "        \n",
    "    # for the surface sampler, all new points are almost exactly 1 radius away from at least one existing sample\n",
    "    # eps to avoid rejection\n",
    "    if hypersphere_sample == hypersphere_surface_sample:\n",
    "        eps = 0.001\n",
    "        sample_factor = 1 + eps\n",
    "    \n",
    "    def in_limits(p):\n",
    "        return np.all(np.zeros(ndim) <= p) and np.all(p < dims)\n",
    "\n",
    "    # Check if there are samples closer than \"squared_radius\" to the candidate \"p\"\n",
    "    def in_neighborhood(p, n=2):\n",
    "        indices = (p / cellsize).astype(int)\n",
    "        indmin = np.maximum(indices - n, np.zeros(ndim, dtype=int))\n",
    "        indmax = np.minimum(indices + n + 1, gridsize)\n",
    "        \n",
    "        # Check if the center cell is empty\n",
    "        if not np.isnan(P[tuple(indices)][0]):\n",
    "            return True\n",
    "        a = []\n",
    "        for i in range(ndim):\n",
    "            a.append(slice(indmin[i], indmax[i]))\n",
    "        with np.errstate(invalid='ignore'):\n",
    "            if np.any(np.sum(np.square(p - P[tuple(a)]), axis=ndim) < squared_radius):\n",
    "                return True\n",
    "\n",
    "    def add_point(p):\n",
    "        points.append(p)\n",
    "        indices = (p/cellsize).astype(int)\n",
    "        P[tuple(indices)] = p\n",
    "\n",
    "    cellsize = min_radius/np.sqrt(ndim)\n",
    "    gridsize = (np.ceil(dims/cellsize)).astype(int)\n",
    "\n",
    "    # Positions of cells\n",
    "    P = np.empty(np.append(gridsize, ndim), dtype=np.float32) #n-dim value for each grid cell\n",
    "    # Initialise emptsy cells with NaNs\n",
    "    P.fill(np.nan)\n",
    "\n",
    "    points = []\n",
    "    add_point(np.random.uniform(np.zeros(ndim), dims))\n",
    "    while len(points):\n",
    "        i = np.random.randint(len(points))\n",
    "        p = points[i]\n",
    "        del points[i]\n",
    "        radius = np.random.uniform(min_radius, max_radius)\n",
    "        # Squared radius because we'll compare squared distance\n",
    "        squared_radius = radius * radius\n",
    "        Q = hypersphere_sample(np.array(p), radius * sample_factor, k)\n",
    "        for q in Q:\n",
    "            if in_limits(q) and not in_neighborhood(q):\n",
    "                add_point(q)\n",
    "    return P[~np.isnan(P).any(axis=ndim)]"
   ]
  },
  {
   "cell_type": "code",
   "execution_count": 3,
   "metadata": {},
   "outputs": [],
   "source": [
    "# # default: 2D points, classic Bridson algorithm as described here:\n",
    "# # https://www.cs.ubc.ca/~rbridson/docs/bridson-siggraph07-poissondisk.pdf\n",
    "# points = Bridson_sampling()\n",
    "\n",
    "# fig, ax = plt.subplots(1, 2, figsize=(10,20))\n",
    "\n",
    "# # alternative sampler, results in denser points: \n",
    "# # based on the method proposed here by Martin Roberts: http://extremelearning.com.au/an-improved-version-of-bridsons-algorithm-n-for-poisson-disc-sampling/\n",
    "# dims2d = np.array([1.0,1.0])\n",
    "# points_surf1 = Bridson_sampling(dims=dims2d, min_radius=0.04, max_radius=0.04, k=30, hypersphere_sample=hypersphere_surface_sample)\n",
    "# points_surf2 = Bridson_sampling(dims=dims2d, min_radius=0.04, max_radius=0.01, k=30, hypersphere_sample=hypersphere_surface_sample)\n",
    "# print(len(points_surf1))\n",
    "# print(len(points_surf2))\n",
    "\n",
    "# np.random.shuffle(points_surf1)\n",
    "# np.random.shuffle(points_surf2)\n",
    "\n",
    "\n",
    "# ax[0].scatter(points_surf1[:,0], points_surf1[:,1], s=10)\n",
    "# ax[0].set_xlim(0, 1)\n",
    "# ax[0].set_ylim(0, 1)\n",
    "# ax[0].set_aspect('equal')\n",
    "\n",
    "# ax[1].scatter(points_surf2[:,0], points_surf2[:,1], s=10)\n",
    "# ax[1].set_xlim(0, 1)\n",
    "# ax[1].set_ylim(0, 1)\n",
    "# ax[1].set_aspect('equal')"
   ]
  },
  {
   "cell_type": "code",
   "execution_count": 4,
   "metadata": {},
   "outputs": [],
   "source": [
    "# radius = .05\n",
    "# dims2d = np.array([1.0,1.0])\n",
    "# points = pd.Bridson_sampling(dims=dims2d, min_radius=radius, max_radius=radius, k=30, hypersphere_sample=pd.hypersphere_surface_sample)\n",
    "# vec = np.random.randn(2, len(points))\n",
    "# vec /= np.linalg.norm(vec, axis=0)\n",
    "# jitter = np.column_stack((vec[0], vec[1])) * radius\n",
    "\n",
    "# print(jitter.shape)\n",
    "\n",
    "# # jittera = np.random.uniform(-radius*.5, radius*.5, len(points))\n",
    "# # jitterb = np.random.uniform(-radius*.5, radius*.5, len(points))\n",
    "# # jitter = np.column_stack((jittera, jitterb))\n",
    "# # print(points.shape)\n",
    "# # print(jitter.shape)\n",
    "# pointsB = points + jitter\n",
    "\n",
    "# def plot(x):\n",
    "#     pointsB = points + jitter * x\n",
    "#     tri = Delaunay(pointsB)\n",
    "#     plt.triplot(pointsB[:,0], pointsB[:,1], tri.simplices)\n",
    "#     plt.plot(pointsB[:,0], pointsB[:,1], 'o')\n",
    "#     # plt.show()\n",
    " \n",
    "# widgets.interact(plot, x=(0, 1, .01))"
   ]
  },
  {
   "cell_type": "code",
   "execution_count": 5,
   "metadata": {},
   "outputs": [],
   "source": [
    "# 3D points\n",
    "radius = .01\n",
    "dims3d = np.array([1.0,1.0,1.0])\n",
    "points3d = pd.Bridson_sampling(dims3d, min_radius=radius, max_radius=radius, k=30)"
   ]
  },
  {
   "cell_type": "code",
   "execution_count": 42,
   "metadata": {},
   "outputs": [
    {
     "data": {
      "text/plain": [
       "563020"
      ]
     },
     "execution_count": 42,
     "metadata": {},
     "output_type": "execute_result"
    }
   ],
   "source": [
    "len(points)"
   ]
  },
  {
   "cell_type": "code",
   "execution_count": 53,
   "metadata": {},
   "outputs": [],
   "source": [
    "jitter = np.random.randn(3, len(points3d))\n",
    "jitter /= np.linalg.norm(jitter, axis=0)\n",
    "jitter = np.column_stack((jitter[0], jitter[1], jitter[2])) * radius * 10\n",
    "\n",
    "samples = 100\n",
    "for i in range(0, samples):\n",
    "    x = i / float(samples)\n",
    "    points = points3d + jitter * x\n",
    "\n",
    "    attributes = np.arange(0, len(points)).reshape((len(points),1))\n",
    "    points = np.hstack((points, attributes)).astype('float32')\n",
    "\n",
    "    size = len(points3d)\n",
    "    newFile = open(\"test_\" + str(i).zfill(3) + \".points\", \"wb\")\n",
    "    newFile.write(size.to_bytes(8, 'little'))\n",
    "\n",
    "    newFile.write(points.tobytes())\n",
    "\n",
    "    newFile.close()\n",
    "    \n",
    "    \n",
    "\n",
    "\n",
    "# def plot(x):\n",
    "    \n",
    "#     fig3d = plt.figure()\n",
    "#     ax3d = Axes3D(fig3d)\n",
    "#     ax3d.scatter(points[:,0], points[:,1], points[:,2])\n",
    "#     # plt.show()\n",
    " \n",
    "# widgets.interact(plot, x=(0, 1, .01))"
   ]
  },
  {
   "cell_type": "code",
   "execution_count": 32,
   "metadata": {},
   "outputs": [],
   "source": [
    "a = np.array([[1,2,3], [4, 5, 6]])\n",
    "b = np.array([[8], [9]])\n",
    "\n",
    "c = np.hstack((a, b))"
   ]
  },
  {
   "cell_type": "code",
   "execution_count": 52,
   "metadata": {},
   "outputs": [
    {
     "data": {
      "text/plain": [
       "dtype('float32')"
      ]
     },
     "execution_count": 52,
     "metadata": {},
     "output_type": "execute_result"
    }
   ],
   "source": [
    "points.dtype"
   ]
  },
  {
   "cell_type": "code",
   "execution_count": 26,
   "metadata": {},
   "outputs": [],
   "source": [
    "points = points3d + jitter * 0\n",
    "tets = Delaunay(points)"
   ]
  },
  {
   "cell_type": "code",
   "execution_count": 35,
   "metadata": {},
   "outputs": [
    {
     "data": {
      "text/plain": [
       "3667818"
      ]
     },
     "execution_count": 35,
     "metadata": {},
     "output_type": "execute_result"
    }
   ],
   "source": [
    "len(tets.simplices)"
   ]
  },
  {
   "cell_type": "code",
   "execution_count": 12,
   "metadata": {},
   "outputs": [],
   "source": []
  },
  {
   "cell_type": "code",
   "execution_count": 13,
   "metadata": {},
   "outputs": [
    {
     "data": {
      "text/plain": [
       "0.01"
      ]
     },
     "execution_count": 13,
     "metadata": {},
     "output_type": "execute_result"
    }
   ],
   "source": [
    "radius"
   ]
  },
  {
   "cell_type": "code",
   "execution_count": null,
   "metadata": {},
   "outputs": [],
   "source": []
  },
  {
   "cell_type": "code",
   "execution_count": 15,
   "metadata": {},
   "outputs": [
    {
     "name": "stdout",
     "output_type": "stream",
     "text": [
      "computing points\n",
      "done, now jittering...\n"
     ]
    },
    {
     "data": {
      "application/vnd.jupyter.widget-view+json": {
       "model_id": "9cd5d915040a4fdc9d2d8637cb09d318",
       "version_major": 2,
       "version_minor": 0
      },
      "text/plain": [
       "IntProgress(value=0, max=29232219)"
      ]
     },
     "metadata": {},
     "output_type": "display_data"
    },
    {
     "data": {
      "application/vnd.jupyter.widget-view+json": {
       "model_id": "6616321644b44cf081239f6799b8bda8",
       "version_major": 2,
       "version_minor": 0
      },
      "text/plain": [
       "IntProgress(value=0, max=4479287)"
      ]
     },
     "metadata": {},
     "output_type": "display_data"
    },
    {
     "data": {
      "application/vnd.jupyter.widget-view+json": {
       "model_id": "2789b51c91b846ac8cf88d03cf98c241",
       "version_major": 2,
       "version_minor": 0
      },
      "text/plain": [
       "IntProgress(value=0, max=4479287)"
      ]
     },
     "metadata": {},
     "output_type": "display_data"
    },
    {
     "data": {
      "application/vnd.jupyter.widget-view+json": {
       "model_id": "64f577d200204e0fbe092d7f3d2cf486",
       "version_major": 2,
       "version_minor": 0
      },
      "text/plain": [
       "IntProgress(value=0, max=29260319)"
      ]
     },
     "metadata": {},
     "output_type": "display_data"
    },
    {
     "data": {
      "application/vnd.jupyter.widget-view+json": {
       "model_id": "3b041eb187214b389954e6c4151d42ed",
       "version_major": 2,
       "version_minor": 0
      },
      "text/plain": [
       "IntProgress(value=0, max=4479287)"
      ]
     },
     "metadata": {},
     "output_type": "display_data"
    },
    {
     "data": {
      "application/vnd.jupyter.widget-view+json": {
       "model_id": "644f029ce75e422f9ca376fef9200723",
       "version_major": 2,
       "version_minor": 0
      },
      "text/plain": [
       "IntProgress(value=0, max=4479287)"
      ]
     },
     "metadata": {},
     "output_type": "display_data"
    },
    {
     "data": {
      "application/vnd.jupyter.widget-view+json": {
       "model_id": "aca6fda01b864e56960846c4b2b27c41",
       "version_major": 2,
       "version_minor": 0
      },
      "text/plain": [
       "IntProgress(value=0, max=29356267)"
      ]
     },
     "metadata": {},
     "output_type": "display_data"
    },
    {
     "data": {
      "application/vnd.jupyter.widget-view+json": {
       "model_id": "0c7cdf65660b4741a9c96f1c718b07d6",
       "version_major": 2,
       "version_minor": 0
      },
      "text/plain": [
       "IntProgress(value=0, max=4479287)"
      ]
     },
     "metadata": {},
     "output_type": "display_data"
    },
    {
     "data": {
      "application/vnd.jupyter.widget-view+json": {
       "model_id": "7159544bc8f24d7b8daa60757f685263",
       "version_major": 2,
       "version_minor": 0
      },
      "text/plain": [
       "IntProgress(value=0, max=4479287)"
      ]
     },
     "metadata": {},
     "output_type": "display_data"
    },
    {
     "data": {
      "application/vnd.jupyter.widget-view+json": {
       "model_id": "f4f5cd4836ac4c50a635ff13d19d2d69",
       "version_major": 2,
       "version_minor": 0
      },
      "text/plain": [
       "IntProgress(value=0, max=29535718)"
      ]
     },
     "metadata": {},
     "output_type": "display_data"
    },
    {
     "data": {
      "application/vnd.jupyter.widget-view+json": {
       "model_id": "bddea6eab5bc461a881e8aff23fec23b",
       "version_major": 2,
       "version_minor": 0
      },
      "text/plain": [
       "IntProgress(value=0, max=4479287)"
      ]
     },
     "metadata": {},
     "output_type": "display_data"
    },
    {
     "data": {
      "application/vnd.jupyter.widget-view+json": {
       "model_id": "ea3db9aff58f489692a1c8a2f2ae11bc",
       "version_major": 2,
       "version_minor": 0
      },
      "text/plain": [
       "IntProgress(value=0, max=4479287)"
      ]
     },
     "metadata": {},
     "output_type": "display_data"
    },
    {
     "data": {
      "application/vnd.jupyter.widget-view+json": {
       "model_id": "6974273f142c48ecbebeae7cb7219771",
       "version_major": 2,
       "version_minor": 0
      },
      "text/plain": [
       "IntProgress(value=0, max=29789824)"
      ]
     },
     "metadata": {},
     "output_type": "display_data"
    },
    {
     "data": {
      "application/vnd.jupyter.widget-view+json": {
       "model_id": "ec8f74052708463fa1c859bee8257387",
       "version_major": 2,
       "version_minor": 0
      },
      "text/plain": [
       "IntProgress(value=0, max=4479287)"
      ]
     },
     "metadata": {},
     "output_type": "display_data"
    },
    {
     "data": {
      "application/vnd.jupyter.widget-view+json": {
       "model_id": "8bf4f3a9ffc94c80827777acf7e6268f",
       "version_major": 2,
       "version_minor": 0
      },
      "text/plain": [
       "IntProgress(value=0, max=4479287)"
      ]
     },
     "metadata": {},
     "output_type": "display_data"
    },
    {
     "data": {
      "application/vnd.jupyter.widget-view+json": {
       "model_id": "4af3c3858da14119bcdd443782e9122d",
       "version_major": 2,
       "version_minor": 0
      },
      "text/plain": [
       "IntProgress(value=0, max=30063254)"
      ]
     },
     "metadata": {},
     "output_type": "display_data"
    },
    {
     "data": {
      "application/vnd.jupyter.widget-view+json": {
       "model_id": "e13cafb9e1564aa78d49d38d6df40e94",
       "version_major": 2,
       "version_minor": 0
      },
      "text/plain": [
       "IntProgress(value=0, max=4479287)"
      ]
     },
     "metadata": {},
     "output_type": "display_data"
    },
    {
     "data": {
      "application/vnd.jupyter.widget-view+json": {
       "model_id": "9bcc066c4d47474d897101b510db9331",
       "version_major": 2,
       "version_minor": 0
      },
      "text/plain": [
       "IntProgress(value=0, max=4479287)"
      ]
     },
     "metadata": {},
     "output_type": "display_data"
    },
    {
     "data": {
      "application/vnd.jupyter.widget-view+json": {
       "model_id": "2f7f80d468924109a56b925477dfc1d5",
       "version_major": 2,
       "version_minor": 0
      },
      "text/plain": [
       "IntProgress(value=0, max=30261135)"
      ]
     },
     "metadata": {},
     "output_type": "display_data"
    },
    {
     "data": {
      "application/vnd.jupyter.widget-view+json": {
       "model_id": "c1946058adb240de88b4a71441207750",
       "version_major": 2,
       "version_minor": 0
      },
      "text/plain": [
       "IntProgress(value=0, max=4479287)"
      ]
     },
     "metadata": {},
     "output_type": "display_data"
    },
    {
     "data": {
      "application/vnd.jupyter.widget-view+json": {
       "model_id": "74a577942e2e4abb9945a4eddfbc7357",
       "version_major": 2,
       "version_minor": 0
      },
      "text/plain": [
       "IntProgress(value=0, max=4479287)"
      ]
     },
     "metadata": {},
     "output_type": "display_data"
    },
    {
     "data": {
      "application/vnd.jupyter.widget-view+json": {
       "model_id": "c0dff1308edd4bdb8d867f0c0aaee055",
       "version_major": 2,
       "version_minor": 0
      },
      "text/plain": [
       "IntProgress(value=0, max=30352242)"
      ]
     },
     "metadata": {},
     "output_type": "display_data"
    },
    {
     "data": {
      "application/vnd.jupyter.widget-view+json": {
       "model_id": "62b8e5f6249143b792568e96c89bb4f5",
       "version_major": 2,
       "version_minor": 0
      },
      "text/plain": [
       "IntProgress(value=0, max=4479287)"
      ]
     },
     "metadata": {},
     "output_type": "display_data"
    },
    {
     "data": {
      "application/vnd.jupyter.widget-view+json": {
       "model_id": "ef450241ece5495b8d6cfafd3cad5389",
       "version_major": 2,
       "version_minor": 0
      },
      "text/plain": [
       "IntProgress(value=0, max=4479287)"
      ]
     },
     "metadata": {},
     "output_type": "display_data"
    },
    {
     "data": {
      "application/vnd.jupyter.widget-view+json": {
       "model_id": "530eee0d96c145ca95ffca89bb77ab5f",
       "version_major": 2,
       "version_minor": 0
      },
      "text/plain": [
       "IntProgress(value=0, max=30371928)"
      ]
     },
     "metadata": {},
     "output_type": "display_data"
    },
    {
     "data": {
      "application/vnd.jupyter.widget-view+json": {
       "model_id": "e3655dcdfcbe4413a0ec94e27ebf60f1",
       "version_major": 2,
       "version_minor": 0
      },
      "text/plain": [
       "IntProgress(value=0, max=4479287)"
      ]
     },
     "metadata": {},
     "output_type": "display_data"
    },
    {
     "data": {
      "application/vnd.jupyter.widget-view+json": {
       "model_id": "86dd74d05a0b40aabc0db3cebecfef63",
       "version_major": 2,
       "version_minor": 0
      },
      "text/plain": [
       "IntProgress(value=0, max=4479287)"
      ]
     },
     "metadata": {},
     "output_type": "display_data"
    },
    {
     "data": {
      "application/vnd.jupyter.widget-view+json": {
       "model_id": "187472b111bc4ab98978bb3d8f619274",
       "version_major": 2,
       "version_minor": 0
      },
      "text/plain": [
       "IntProgress(value=0, max=30359644)"
      ]
     },
     "metadata": {},
     "output_type": "display_data"
    },
    {
     "data": {
      "application/vnd.jupyter.widget-view+json": {
       "model_id": "6ebc97501eb24b15b71a96f1360ed07a",
       "version_major": 2,
       "version_minor": 0
      },
      "text/plain": [
       "IntProgress(value=0, max=4479287)"
      ]
     },
     "metadata": {},
     "output_type": "display_data"
    },
    {
     "data": {
      "application/vnd.jupyter.widget-view+json": {
       "model_id": "3cdc13ef5dd64f8ca112e130c4dffe38",
       "version_major": 2,
       "version_minor": 0
      },
      "text/plain": [
       "IntProgress(value=0, max=4479287)"
      ]
     },
     "metadata": {},
     "output_type": "display_data"
    }
   ],
   "source": [
    "print(\"computing points\")\n",
    "radius = .005\n",
    "dims3d = np.array([1.0,1.0,1.0])\n",
    "points3d = pd.Bridson_sampling(dims3d, min_radius=radius, max_radius=radius, k=30)\n",
    "\n",
    "print(\"done, now jittering...\")\n",
    "jitter = np.random.randn(3, len(points3d))\n",
    "jitter /= np.linalg.norm(jitter, axis=0)\n",
    "jitter = np.column_stack((jitter[0], jitter[1], jitter[2])) * radius\n",
    "\n",
    "from ipywidgets import IntProgress\n",
    "from IPython.display import display\n",
    "for amount in range(0, 10, 1):\n",
    "    mesh = UMesh.CreateUMesh()\n",
    "\n",
    "    points = points3d + jitter * float(amount) / 10.0\n",
    "    tets = Delaunay(points)\n",
    "\n",
    "    # indices\n",
    "    f = IntProgress(min=0, max=len(tets.simplices)) # instantiate the bar\n",
    "    display(f) # display the bar\n",
    "\n",
    "    mesh.tets.resize((len(tets.simplices)))\n",
    "\n",
    "    for i in range(len(tets.simplices)):\n",
    "        if (i % 100) == 0 : f.value += 100\n",
    "        indices = [\n",
    "            int(tets.simplices[i][0]), \n",
    "            int(tets.simplices[i][1]), \n",
    "            int(tets.simplices[i][2]), \n",
    "            int(tets.simplices[i][3])]\n",
    "        mesh.tets[i].set_indices(indices)\n",
    "\n",
    "    # vertices\n",
    "    from ipywidgets import IntProgress\n",
    "    from IPython.display import display\n",
    "    f = IntProgress(min=0, max=len(tets.points)) # instantiate the bar\n",
    "    display(f) # display the bar\n",
    "\n",
    "    mesh.vertices.resize((len(tets.points)))\n",
    "\n",
    "    for i in range(len(tets.points)):\n",
    "        if (i % 100) == 0 : f.value += 100\n",
    "        mesh.vertices[i] = tets.points[i]\n",
    "\n",
    "    # scalars\n",
    "    from ipywidgets import IntProgress\n",
    "    from IPython.display import display\n",
    "    f = IntProgress(min=0, max=len(tets.points)) # instantiate the bar\n",
    "    display(f) # display the bar\n",
    "\n",
    "    mesh.perVertex.values.resize(len(tets.points))\n",
    "\n",
    "    for i in range(len(tets.points)):\n",
    "        if (i % 100) == 0 : f.value += 100\n",
    "        x = 1 - pow(tets.points[i][0] * 2 - 1, 2)\n",
    "        y = 1 - pow(tets.points[i][1] * 2 - 1, 2)\n",
    "        z = 1 - pow(tets.points[i][2] * 2 - 1, 2)\n",
    "        scalar = x * y * z\n",
    "        mesh.perVertex.values[i] = scalar\n",
    "\n",
    "    path = \"./test\" + str(amount) + \".umesh\"\n",
    "    UMesh.saveBinaryUMesh(path, mesh)"
   ]
  },
  {
   "cell_type": "code",
   "execution_count": 31,
   "metadata": {},
   "outputs": [],
   "source": []
  },
  {
   "cell_type": "code",
   "execution_count": 71,
   "metadata": {},
   "outputs": [
    {
     "data": {
      "application/vnd.jupyter.widget-view+json": {
       "model_id": "57e42abb538d49e297ba90daa74db617",
       "version_major": 2,
       "version_minor": 0
      },
      "text/plain": [
       "IntProgress(value=0)"
      ]
     },
     "metadata": {},
     "output_type": "display_data"
    }
   ],
   "source": [
    "\n",
    "\n",
    "max_count = 100\n",
    "\n",
    "f = IntProgress(min=0, max=max_count) # instantiate the bar\n",
    "display(f) # display the bar\n",
    "\n",
    "count = 0\n",
    "while count <= max_count:\n",
    "    f.value += 1 # signal to increment the progress bar\n",
    "    time.sleep(.1)\n",
    "    count += 1"
   ]
  },
  {
   "cell_type": "code",
   "execution_count": 30,
   "metadata": {},
   "outputs": [
    {
     "name": "stdout",
     "output_type": "stream",
     "text": [
      "(100000, 3)\n"
     ]
    },
    {
     "name": "stderr",
     "output_type": "stream",
     "text": [
      "C:\\Users\\Nate\\AppData\\Local\\Temp\\ipykernel_4464\\3832539063.py:24: MatplotlibDeprecationWarning: Axes3D(fig) adding itself to the figure is deprecated since 3.4. Pass the keyword argument auto_add_to_figure=False and use fig.add_axes(ax) to suppress this warning. The default value of auto_add_to_figure will change to False in mpl3.5 and True values will no longer work in 3.6.  This is consistent with other Axes classes.\n",
      "  ax3d = Axes3D(fig3d)\n"
     ]
    },
    {
     "data": {
      "image/png": "[encoded data removed]",
      "text/plain": [
       "<Figure size 432x288 with 1 Axes>"
      ]
     },
     "metadata": {
      "needs_background": "light"
     },
     "output_type": "display_data"
    }
   ],
   "source": [
    "mean = 0.\n",
    "sigma = 100.0\n",
    "numPoints = 1000000\n",
    "y = np.random.poisson(sigma, numPoints)\n",
    "x = np.random.poisson(sigma, numPoints)\n",
    "z = np.random.poisson(sigma, numPoints)\n",
    "x -= np.min(x)\n",
    "y -= np.min(y)\n",
    "z -= np.min(z)\n",
    "x = x / np.max(x)\n",
    "y = y / np.max(y)\n",
    "z = z / np.max(z)\n",
    "pointsB = np.column_stack((x, y, z))\n",
    "print(pointsB.shape)\n",
    "\n",
    "# tets = Delaunay(pointsB)\n",
    "# plt.triplot(pointsB[:,0], pointsB[:,1], tri.simplices)\n",
    "# plt.plot(pointsB[:,0], pointsB[:,1], 'o')\n",
    "# plt.show()\n",
    " \n",
    "# widgets.interact(plot, lam=(1, 100, .01))\n",
    "\n",
    "fig3d = plt.figure()\n",
    "ax3d = Axes3D(fig3d)\n",
    "ax3d.scatter(x, y, z)\n",
    "plt.show()"
   ]
  },
  {
   "cell_type": "code",
   "execution_count": 31,
   "metadata": {},
   "outputs": [],
   "source": [
    "tets = Delaunay(pointsB)"
   ]
  },
  {
   "cell_type": "code",
   "execution_count": 34,
   "metadata": {},
   "outputs": [
    {
     "data": {
      "application/vnd.jupyter.widget-view+json": {
       "model_id": "e4abbbf3f16342cd9c337ea19ad804e0",
       "version_major": 2,
       "version_minor": 0
      },
      "text/plain": [
       "IntProgress(value=0, max=334158)"
      ]
     },
     "metadata": {},
     "output_type": "display_data"
    },
    {
     "data": {
      "application/vnd.jupyter.widget-view+json": {
       "model_id": "a0b95eb149b74ee0ad0f9817e8d84468",
       "version_major": 2,
       "version_minor": 0
      },
      "text/plain": [
       "IntProgress(value=0, max=100000)"
      ]
     },
     "metadata": {},
     "output_type": "display_data"
    },
    {
     "data": {
      "application/vnd.jupyter.widget-view+json": {
       "model_id": "cdf93ddea1ea444893965e86aa62b978",
       "version_major": 2,
       "version_minor": 0
      },
      "text/plain": [
       "IntProgress(value=0, max=100000)"
      ]
     },
     "metadata": {},
     "output_type": "display_data"
    }
   ],
   "source": [
    "\n",
    "\n",
    "# assumes tets generated above\n",
    "mesh = UMesh.CreateUMesh()\n",
    "\n",
    "# indices\n",
    "f = IntProgress(min=0, max=len(tets.simplices)) # instantiate the bar\n",
    "display(f) # display the bar\n",
    "\n",
    "mesh.tets.resize((len(tets.simplices)))\n",
    "\n",
    "for i in range(len(tets.simplices)):\n",
    "    if (i % 100) == 0 : f.value += 100\n",
    "    indices = [\n",
    "        int(tets.simplices[i][0]), \n",
    "        int(tets.simplices[i][1]), \n",
    "        int(tets.simplices[i][2]), \n",
    "        int(tets.simplices[i][3])]\n",
    "    mesh.tets[i].set_indices(indices)\n",
    "\n",
    "# vertices\n",
    "from ipywidgets import IntProgress\n",
    "from IPython.display import display\n",
    "f = IntProgress(min=0, max=len(tets.points)) # instantiate the bar\n",
    "display(f) # display the bar\n",
    "\n",
    "mesh.vertices.resize((len(tets.points)))\n",
    "\n",
    "for i in range(len(tets.points)):\n",
    "    if (i % 100) == 0 : f.value += 100\n",
    "    mesh.vertices[i] = tets.points[i]\n",
    "\n",
    "# scalars\n",
    "from ipywidgets import IntProgress\n",
    "from IPython.display import display\n",
    "f = IntProgress(min=0, max=len(tets.points)) # instantiate the bar\n",
    "display(f) # display the bar\n",
    "\n",
    "mesh.perVertex.values.resize(len(tets.points))\n",
    "\n",
    "for i in range(len(tets.points)):\n",
    "    if (i % 100) == 0 : f.value += 100\n",
    "    x = 1 - pow(tets.points[i][0] * 2 - 1, 2)\n",
    "    y = 1 - pow(tets.points[i][1] * 2 - 1, 2)\n",
    "    z = 1 - pow(tets.points[i][2] * 2 - 1, 2)\n",
    "    scalar = x * y * z\n",
    "    mesh.perVertex.values[i] = scalar\n",
    "\n",
    "path = \"./poisson.umesh\"\n",
    "UMesh.saveBinaryUMesh(path, mesh)"
   ]
  },
  {
   "cell_type": "code",
   "execution_count": null,
   "metadata": {},
   "outputs": [],
   "source": []
  }
 ],
 "metadata": {
  "interpreter": {
   "hash": "3b495edf9d28f5b62da998705c7bdf600ba67793785903f817dc9db4183cac86"
  },
  "kernelspec": {
   "display_name": "Python 3.10.1 64-bit",
   "language": "python",
   "name": "python3"
  },
  "language_info": {
   "codemirror_mode": {
    "name": "ipython",
    "version": 3
   },
   "file_extension": ".py",
   "mimetype": "text/x-python",
   "name": "python",
   "nbconvert_exporter": "python",
   "pygments_lexer": "ipython3",
   "version": "3.10.6"
  },
  "orig_nbformat": 4
 },
 "nbformat": 4,
 "nbformat_minor": 2
}
